{
 "cells": [
  {
   "cell_type": "markdown",
   "metadata": {},
   "source": [
    "#### Ejemplo 3: Encontrar el ángulo entre dos vectores."
   ]
  },
  {
   "cell_type": "code",
   "execution_count": 3,
   "metadata": {},
   "outputs": [
    {
     "name": "stdout",
     "output_type": "stream",
     "text": [
      "Ángulo entre vectores: 169.53°\n"
     ]
    }
   ],
   "source": [
    "import math\n",
    "\n",
    "def angle_between_vectors(x1, y1, x2, y2):\n",
    "    angle1 = math.atan2(y1, x1)\n",
    "    angle2 = math.atan2(y2, x2)\n",
    "    return math.degrees(abs(angle1 - angle2))\n",
    "\n",
    "x1, y1 = -10, 25\n",
    "x2, y2 = 12, -19\n",
    "angle = angle_between_vectors(x1, y1, x2, y2)\n",
    "print(f\"Ángulo entre vectores: {angle:.2f}°\")\n"
   ]
  }
 ],
 "metadata": {
  "kernelspec": {
   "display_name": "Python 3",
   "language": "python",
   "name": "python3"
  },
  "language_info": {
   "codemirror_mode": {
    "name": "ipython",
    "version": 3
   },
   "file_extension": ".py",
   "mimetype": "text/x-python",
   "name": "python",
   "nbconvert_exporter": "python",
   "pygments_lexer": "ipython3",
   "version": "3.11.0"
  }
 },
 "nbformat": 4,
 "nbformat_minor": 2
}
