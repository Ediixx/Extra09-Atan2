{
 "cells": [
  {
   "cell_type": "markdown",
   "metadata": {},
   "source": [
    "#### Ejemplo 2: Determinar el cuadrante de un punto en un plano cartesiano."
   ]
  },
  {
   "cell_type": "code",
   "execution_count": 4,
   "metadata": {},
   "outputs": [
    {
     "name": "stdout",
     "output_type": "stream",
     "text": [
      "Ángulo: 47.12° - Primer cuadrante\n"
     ]
    }
   ],
   "source": [
    "import math \n",
    "\n",
    "def determinar_cuadrante(x, y):\n",
    "    angle = math.degrees(math.atan2(y, x))\n",
    "    if x > 0 and y > 0:\n",
    "        cuadrante = \"Primer cuadrante\"\n",
    "    elif x < 0 and y > 0:\n",
    "        cuadrante = \"Segundo cuadrante\"\n",
    "    elif x < 0 and y < 0:\n",
    "        cuadrante = \"Tercer cuadrante\"\n",
    "    elif x > 0 and y < 0:\n",
    "        cuadrante = \"Cuarto cuadrante\"\n",
    "    else:\n",
    "        cuadrante = \"Sobre un eje o en el origen\"\n",
    "    return angle, cuadrante\n",
    "\n",
    "x, y = 13, 14\n",
    "angle, cuadrante = determinar_cuadrante(x, y)\n",
    "print(f\"Ángulo: {angle:.2f}° - {cuadrante}\")\n"
   ]
  }
 ],
 "metadata": {
  "kernelspec": {
   "display_name": "Python 3",
   "language": "python",
   "name": "python3"
  },
  "language_info": {
   "codemirror_mode": {
    "name": "ipython",
    "version": 3
   },
   "file_extension": ".py",
   "mimetype": "text/x-python",
   "name": "python",
   "nbconvert_exporter": "python",
   "pygments_lexer": "ipython3",
   "version": "3.11.0"
  }
 },
 "nbformat": 4,
 "nbformat_minor": 2
}
