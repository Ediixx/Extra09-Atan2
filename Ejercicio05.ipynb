{
 "cells": [
  {
   "cell_type": "markdown",
   "metadata": {},
   "source": [
    "#### Ejercicio 5: Determinar el ángulo de inclinación de una línea recta."
   ]
  },
  {
   "cell_type": "code",
   "execution_count": 2,
   "metadata": {},
   "outputs": [
    {
     "name": "stdout",
     "output_type": "stream",
     "text": [
      "Ángulo de inclinación de la línea con pendiente 18: 86.82°\n"
     ]
    }
   ],
   "source": [
    "import math\n",
    "\n",
    "def calcular_angulo_inclinacion(m):\n",
    "    # El ángulo de inclinación es el ángulo cuya tangente es igual a la pendiente m.\n",
    "    angle_radians = math.atan2(m, 1)  # m es el valor de la pendiente y 1 es el cambio en x (Δx)\n",
    "    angle_degrees = math.degrees(angle_radians)\n",
    "    return angle_degrees\n",
    "\n",
    "# Ejemplo de pendiente\n",
    "m = 18  # Pendiente de la línea\n",
    "angulo = calcular_angulo_inclinacion(m)\n",
    "print(f\"Ángulo de inclinación de la línea con pendiente {m}: {angulo:.2f}°\")\n"
   ]
  }
 ],
 "metadata": {
  "kernelspec": {
   "display_name": "Python 3",
   "language": "python",
   "name": "python3"
  },
  "language_info": {
   "codemirror_mode": {
    "name": "ipython",
    "version": 3
   },
   "file_extension": ".py",
   "mimetype": "text/x-python",
   "name": "python",
   "nbconvert_exporter": "python",
   "pygments_lexer": "ipython3",
   "version": "3.11.0"
  }
 },
 "nbformat": 4,
 "nbformat_minor": 2
}
