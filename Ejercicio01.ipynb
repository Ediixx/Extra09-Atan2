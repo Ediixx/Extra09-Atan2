{
 "cells": [
  {
   "cell_type": "markdown",
   "metadata": {},
   "source": [
    "#### Ejercicio 1: Calcular el ángulo de un vector en radianes y grados."
   ]
  },
  {
   "cell_type": "code",
   "execution_count": 2,
   "metadata": {},
   "outputs": [
    {
     "name": "stdout",
     "output_type": "stream",
     "text": [
      "Ángulo en radianes: 1.13\n",
      "Ángulo en grados: 64.98\n"
     ]
    }
   ],
   "source": [
    "import math\n",
    "\n",
    "x, y = 7, 15\n",
    "angle_radians = math.atan2(y, x)\n",
    "angle_degrees = math.degrees(angle_radians)\n",
    "\n",
    "print(f\"Ángulo en radianes: {angle_radians:.2f}\")\n",
    "print(f\"Ángulo en grados: {angle_degrees:.2f}\")"
   ]
  }
 ],
 "metadata": {
  "kernelspec": {
   "display_name": "Python 3",
   "language": "python",
   "name": "python3"
  },
  "language_info": {
   "codemirror_mode": {
    "name": "ipython",
    "version": 3
   },
   "file_extension": ".py",
   "mimetype": "text/x-python",
   "name": "python",
   "nbconvert_exporter": "python",
   "pygments_lexer": "ipython3",
   "version": "3.11.0"
  }
 },
 "nbformat": 4,
 "nbformat_minor": 2
}
